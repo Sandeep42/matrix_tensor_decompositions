{
 "cells": [
  {
   "cell_type": "code",
   "execution_count": 1,
   "metadata": {},
   "outputs": [],
   "source": [
    "import pandas as pd\n",
    "import numpy as np"
   ]
  },
  {
   "cell_type": "code",
   "execution_count": 2,
   "metadata": {},
   "outputs": [],
   "source": [
    "index_names = ['User'+str(x) for x in range(5)]\n",
    "movie_names = ['Star Trek','Interstellar','Inception','Silver Linings Playbook','The Perks of Being a Wallflower']\n",
    "times = ['Morning','Afternoon','Evening','Night']"
   ]
  },
  {
   "cell_type": "code",
   "execution_count": 3,
   "metadata": {},
   "outputs": [],
   "source": [
    "time2id = {v:k for k,v in enumerate(times)}\n",
    "id2time = {k:v for k,v in enumerate(times)}"
   ]
  },
  {
   "cell_type": "code",
   "execution_count": 4,
   "metadata": {},
   "outputs": [],
   "source": [
    "index2id = {v:k for k,v in enumerate(index_names)}\n",
    "id2index = {k:v for k,v in enumerate(index_names)}"
   ]
  },
  {
   "cell_type": "code",
   "execution_count": 5,
   "metadata": {},
   "outputs": [],
   "source": [
    "movie2id = {v:k for k,v in enumerate(movie_names)}\n",
    "id2movie = {k:v for k,v in enumerate(movie_names)}"
   ]
  },
  {
   "cell_type": "code",
   "execution_count": 6,
   "metadata": {},
   "outputs": [
    {
     "data": {
      "text/plain": [
       "{0: 'Morning', 1: 'Afternoon', 2: 'Evening', 3: 'Night'}"
      ]
     },
     "execution_count": 6,
     "metadata": {},
     "output_type": "execute_result"
    }
   ],
   "source": [
    "id2time"
   ]
  },
  {
   "cell_type": "code",
   "execution_count": 7,
   "metadata": {},
   "outputs": [
    {
     "data": {
      "text/plain": [
       "{'Inception': 2,\n",
       " 'Interstellar': 1,\n",
       " 'Silver Linings Playbook': 3,\n",
       " 'Star Trek': 0,\n",
       " 'The Perks of Being a Wallflower': 4}"
      ]
     },
     "execution_count": 7,
     "metadata": {},
     "output_type": "execute_result"
    }
   ],
   "source": [
    "movie2id"
   ]
  },
  {
   "cell_type": "code",
   "execution_count": 8,
   "metadata": {},
   "outputs": [
    {
     "data": {
      "text/plain": [
       "{'User0': 0, 'User1': 1, 'User2': 2, 'User3': 3, 'User4': 4}"
      ]
     },
     "execution_count": 8,
     "metadata": {},
     "output_type": "execute_result"
    }
   ],
   "source": [
    "index2id"
   ]
  },
  {
   "cell_type": "code",
   "execution_count": 9,
   "metadata": {},
   "outputs": [],
   "source": [
    "dataset = pd.DataFrame(index=index_names,columns=movie_names)\n",
    "dataset = dataset.fillna(0)"
   ]
  },
  {
   "cell_type": "code",
   "execution_count": 10,
   "metadata": {},
   "outputs": [],
   "source": [
    "dataset.loc['User1']['Star Trek'] = 5\n",
    "dataset.loc['User1']['Inception'] = 3\n",
    "dataset.loc['User2']['Interstellar'] = 3\n",
    "dataset.loc['User2']['Inception'] = 4\n",
    "dataset.loc['User3']['Interstellar'] = 3\n",
    "dataset.loc['User3']['Inception'] = 4\n",
    "dataset.loc['User3']['Star Trek'] = 5\n",
    "dataset.loc['User0']['Silver Linings Playbook'] = 5\n",
    "dataset.loc['User0']['The Perks of Being a Wallflower'] = 3\n",
    "dataset.loc['User0']['Star Trek'] = 3\n",
    "dataset.loc['User4']['Silver Linings Playbook'] = 4\n",
    "dataset.loc['User4']['The Perks of Being a Wallflower'] = 5"
   ]
  },
  {
   "cell_type": "code",
   "execution_count": 11,
   "metadata": {
    "scrolled": true
   },
   "outputs": [
    {
     "data": {
      "text/html": [
       "<div>\n",
       "<style scoped>\n",
       "    .dataframe tbody tr th:only-of-type {\n",
       "        vertical-align: middle;\n",
       "    }\n",
       "\n",
       "    .dataframe tbody tr th {\n",
       "        vertical-align: top;\n",
       "    }\n",
       "\n",
       "    .dataframe thead th {\n",
       "        text-align: right;\n",
       "    }\n",
       "</style>\n",
       "<table border=\"1\" class=\"dataframe\">\n",
       "  <thead>\n",
       "    <tr style=\"text-align: right;\">\n",
       "      <th></th>\n",
       "      <th>Star Trek</th>\n",
       "      <th>Interstellar</th>\n",
       "      <th>Inception</th>\n",
       "      <th>Silver Linings Playbook</th>\n",
       "      <th>The Perks of Being a Wallflower</th>\n",
       "    </tr>\n",
       "  </thead>\n",
       "  <tbody>\n",
       "    <tr>\n",
       "      <th>User0</th>\n",
       "      <td>3</td>\n",
       "      <td>0</td>\n",
       "      <td>0</td>\n",
       "      <td>5</td>\n",
       "      <td>3</td>\n",
       "    </tr>\n",
       "    <tr>\n",
       "      <th>User1</th>\n",
       "      <td>5</td>\n",
       "      <td>0</td>\n",
       "      <td>3</td>\n",
       "      <td>0</td>\n",
       "      <td>0</td>\n",
       "    </tr>\n",
       "    <tr>\n",
       "      <th>User2</th>\n",
       "      <td>0</td>\n",
       "      <td>3</td>\n",
       "      <td>4</td>\n",
       "      <td>0</td>\n",
       "      <td>0</td>\n",
       "    </tr>\n",
       "    <tr>\n",
       "      <th>User3</th>\n",
       "      <td>5</td>\n",
       "      <td>3</td>\n",
       "      <td>4</td>\n",
       "      <td>0</td>\n",
       "      <td>0</td>\n",
       "    </tr>\n",
       "    <tr>\n",
       "      <th>User4</th>\n",
       "      <td>0</td>\n",
       "      <td>0</td>\n",
       "      <td>0</td>\n",
       "      <td>4</td>\n",
       "      <td>5</td>\n",
       "    </tr>\n",
       "  </tbody>\n",
       "</table>\n",
       "</div>"
      ],
      "text/plain": [
       "       Star Trek  Interstellar  Inception  Silver Linings Playbook  \\\n",
       "User0          3             0          0                        5   \n",
       "User1          5             0          3                        0   \n",
       "User2          0             3          4                        0   \n",
       "User3          5             3          4                        0   \n",
       "User4          0             0          0                        4   \n",
       "\n",
       "       The Perks of Being a Wallflower  \n",
       "User0                                3  \n",
       "User1                                0  \n",
       "User2                                0  \n",
       "User3                                0  \n",
       "User4                                5  "
      ]
     },
     "execution_count": 11,
     "metadata": {},
     "output_type": "execute_result"
    }
   ],
   "source": [
    "dataset"
   ]
  },
  {
   "cell_type": "code",
   "execution_count": 12,
   "metadata": {},
   "outputs": [],
   "source": [
    "flattened_dataset = dataset.unstack().reset_index()"
   ]
  },
  {
   "cell_type": "code",
   "execution_count": 13,
   "metadata": {},
   "outputs": [],
   "source": [
    "columns = ['Movie','User','Rating']"
   ]
  },
  {
   "cell_type": "code",
   "execution_count": 14,
   "metadata": {},
   "outputs": [],
   "source": [
    "flattened_dataset.columns = columns"
   ]
  },
  {
   "cell_type": "code",
   "execution_count": 15,
   "metadata": {},
   "outputs": [
    {
     "data": {
      "text/plain": [
       "{'Afternoon': 1, 'Evening': 2, 'Morning': 0, 'Night': 3}"
      ]
     },
     "execution_count": 15,
     "metadata": {},
     "output_type": "execute_result"
    }
   ],
   "source": [
    "time2id"
   ]
  },
  {
   "cell_type": "code",
   "execution_count": 16,
   "metadata": {},
   "outputs": [],
   "source": [
    "np.random.seed(42)"
   ]
  },
  {
   "cell_type": "code",
   "execution_count": 17,
   "metadata": {},
   "outputs": [],
   "source": [
    "def data_sampler(movie_name):\n",
    "    if movie_name == 'Star Trek' or movie_name == 'Interstellar' or movie_name == 'Inception':\n",
    "        return np.random.choice(['Morning','Afternoon'])\n",
    "    else:\n",
    "        return np.random.choice(['Evening','Night'])"
   ]
  },
  {
   "cell_type": "code",
   "execution_count": 18,
   "metadata": {},
   "outputs": [],
   "source": [
    "flattened_dataset['Preferred_Time'] = flattened_dataset['Movie'].apply(lambda x: data_sampler(x))"
   ]
  },
  {
   "cell_type": "code",
   "execution_count": 41,
   "metadata": {},
   "outputs": [],
   "source": [
    "flattened_dataset = pd.read_csv('generated_dataset.csv')"
   ]
  },
  {
   "cell_type": "code",
   "execution_count": 42,
   "metadata": {},
   "outputs": [],
   "source": [
    "# flattened_dataset.to_csv('generated_dataset.csv')"
   ]
  },
  {
   "cell_type": "code",
   "execution_count": 43,
   "metadata": {},
   "outputs": [
    {
     "data": {
      "text/html": [
       "<div>\n",
       "<style scoped>\n",
       "    .dataframe tbody tr th:only-of-type {\n",
       "        vertical-align: middle;\n",
       "    }\n",
       "\n",
       "    .dataframe tbody tr th {\n",
       "        vertical-align: top;\n",
       "    }\n",
       "\n",
       "    .dataframe thead th {\n",
       "        text-align: right;\n",
       "    }\n",
       "</style>\n",
       "<table border=\"1\" class=\"dataframe\">\n",
       "  <thead>\n",
       "    <tr style=\"text-align: right;\">\n",
       "      <th></th>\n",
       "      <th>Unnamed: 0</th>\n",
       "      <th>Movie</th>\n",
       "      <th>User</th>\n",
       "      <th>Rating</th>\n",
       "      <th>Preferred_Time</th>\n",
       "    </tr>\n",
       "  </thead>\n",
       "  <tbody>\n",
       "    <tr>\n",
       "      <th>0</th>\n",
       "      <td>0</td>\n",
       "      <td>Star Trek</td>\n",
       "      <td>User0</td>\n",
       "      <td>3</td>\n",
       "      <td>Morning</td>\n",
       "    </tr>\n",
       "    <tr>\n",
       "      <th>1</th>\n",
       "      <td>1</td>\n",
       "      <td>Star Trek</td>\n",
       "      <td>User1</td>\n",
       "      <td>5</td>\n",
       "      <td>Afternoon</td>\n",
       "    </tr>\n",
       "    <tr>\n",
       "      <th>2</th>\n",
       "      <td>2</td>\n",
       "      <td>Star Trek</td>\n",
       "      <td>User2</td>\n",
       "      <td>0</td>\n",
       "      <td>Morning</td>\n",
       "    </tr>\n",
       "    <tr>\n",
       "      <th>3</th>\n",
       "      <td>3</td>\n",
       "      <td>Star Trek</td>\n",
       "      <td>User3</td>\n",
       "      <td>5</td>\n",
       "      <td>Morning</td>\n",
       "    </tr>\n",
       "    <tr>\n",
       "      <th>4</th>\n",
       "      <td>4</td>\n",
       "      <td>Star Trek</td>\n",
       "      <td>User4</td>\n",
       "      <td>0</td>\n",
       "      <td>Morning</td>\n",
       "    </tr>\n",
       "    <tr>\n",
       "      <th>5</th>\n",
       "      <td>5</td>\n",
       "      <td>Interstellar</td>\n",
       "      <td>User0</td>\n",
       "      <td>0</td>\n",
       "      <td>Afternoon</td>\n",
       "    </tr>\n",
       "    <tr>\n",
       "      <th>6</th>\n",
       "      <td>6</td>\n",
       "      <td>Interstellar</td>\n",
       "      <td>User1</td>\n",
       "      <td>0</td>\n",
       "      <td>Morning</td>\n",
       "    </tr>\n",
       "    <tr>\n",
       "      <th>7</th>\n",
       "      <td>7</td>\n",
       "      <td>Interstellar</td>\n",
       "      <td>User2</td>\n",
       "      <td>3</td>\n",
       "      <td>Morning</td>\n",
       "    </tr>\n",
       "    <tr>\n",
       "      <th>8</th>\n",
       "      <td>8</td>\n",
       "      <td>Interstellar</td>\n",
       "      <td>User3</td>\n",
       "      <td>3</td>\n",
       "      <td>Morning</td>\n",
       "    </tr>\n",
       "    <tr>\n",
       "      <th>9</th>\n",
       "      <td>9</td>\n",
       "      <td>Interstellar</td>\n",
       "      <td>User4</td>\n",
       "      <td>0</td>\n",
       "      <td>Afternoon</td>\n",
       "    </tr>\n",
       "    <tr>\n",
       "      <th>10</th>\n",
       "      <td>10</td>\n",
       "      <td>Inception</td>\n",
       "      <td>User0</td>\n",
       "      <td>0</td>\n",
       "      <td>Morning</td>\n",
       "    </tr>\n",
       "    <tr>\n",
       "      <th>11</th>\n",
       "      <td>11</td>\n",
       "      <td>Inception</td>\n",
       "      <td>User1</td>\n",
       "      <td>3</td>\n",
       "      <td>Morning</td>\n",
       "    </tr>\n",
       "    <tr>\n",
       "      <th>12</th>\n",
       "      <td>12</td>\n",
       "      <td>Inception</td>\n",
       "      <td>User2</td>\n",
       "      <td>4</td>\n",
       "      <td>Morning</td>\n",
       "    </tr>\n",
       "    <tr>\n",
       "      <th>13</th>\n",
       "      <td>13</td>\n",
       "      <td>Inception</td>\n",
       "      <td>User3</td>\n",
       "      <td>4</td>\n",
       "      <td>Morning</td>\n",
       "    </tr>\n",
       "    <tr>\n",
       "      <th>14</th>\n",
       "      <td>14</td>\n",
       "      <td>Inception</td>\n",
       "      <td>User4</td>\n",
       "      <td>0</td>\n",
       "      <td>Afternoon</td>\n",
       "    </tr>\n",
       "    <tr>\n",
       "      <th>15</th>\n",
       "      <td>15</td>\n",
       "      <td>Silver Linings Playbook</td>\n",
       "      <td>User0</td>\n",
       "      <td>5</td>\n",
       "      <td>Evening</td>\n",
       "    </tr>\n",
       "    <tr>\n",
       "      <th>16</th>\n",
       "      <td>16</td>\n",
       "      <td>Silver Linings Playbook</td>\n",
       "      <td>User1</td>\n",
       "      <td>0</td>\n",
       "      <td>Night</td>\n",
       "    </tr>\n",
       "    <tr>\n",
       "      <th>17</th>\n",
       "      <td>17</td>\n",
       "      <td>Silver Linings Playbook</td>\n",
       "      <td>User2</td>\n",
       "      <td>0</td>\n",
       "      <td>Night</td>\n",
       "    </tr>\n",
       "    <tr>\n",
       "      <th>18</th>\n",
       "      <td>18</td>\n",
       "      <td>Silver Linings Playbook</td>\n",
       "      <td>User3</td>\n",
       "      <td>0</td>\n",
       "      <td>Night</td>\n",
       "    </tr>\n",
       "    <tr>\n",
       "      <th>19</th>\n",
       "      <td>19</td>\n",
       "      <td>Silver Linings Playbook</td>\n",
       "      <td>User4</td>\n",
       "      <td>4</td>\n",
       "      <td>Evening</td>\n",
       "    </tr>\n",
       "    <tr>\n",
       "      <th>20</th>\n",
       "      <td>20</td>\n",
       "      <td>The Perks of Being a Wallflower</td>\n",
       "      <td>User0</td>\n",
       "      <td>3</td>\n",
       "      <td>Night</td>\n",
       "    </tr>\n",
       "    <tr>\n",
       "      <th>21</th>\n",
       "      <td>21</td>\n",
       "      <td>The Perks of Being a Wallflower</td>\n",
       "      <td>User1</td>\n",
       "      <td>0</td>\n",
       "      <td>Evening</td>\n",
       "    </tr>\n",
       "    <tr>\n",
       "      <th>22</th>\n",
       "      <td>22</td>\n",
       "      <td>The Perks of Being a Wallflower</td>\n",
       "      <td>User2</td>\n",
       "      <td>0</td>\n",
       "      <td>Night</td>\n",
       "    </tr>\n",
       "    <tr>\n",
       "      <th>23</th>\n",
       "      <td>23</td>\n",
       "      <td>The Perks of Being a Wallflower</td>\n",
       "      <td>User3</td>\n",
       "      <td>0</td>\n",
       "      <td>Night</td>\n",
       "    </tr>\n",
       "    <tr>\n",
       "      <th>24</th>\n",
       "      <td>24</td>\n",
       "      <td>The Perks of Being a Wallflower</td>\n",
       "      <td>User4</td>\n",
       "      <td>5</td>\n",
       "      <td>Night</td>\n",
       "    </tr>\n",
       "  </tbody>\n",
       "</table>\n",
       "</div>"
      ],
      "text/plain": [
       "    Unnamed: 0                            Movie   User  Rating Preferred_Time\n",
       "0            0                        Star Trek  User0       3        Morning\n",
       "1            1                        Star Trek  User1       5      Afternoon\n",
       "2            2                        Star Trek  User2       0        Morning\n",
       "3            3                        Star Trek  User3       5        Morning\n",
       "4            4                        Star Trek  User4       0        Morning\n",
       "5            5                     Interstellar  User0       0      Afternoon\n",
       "6            6                     Interstellar  User1       0        Morning\n",
       "7            7                     Interstellar  User2       3        Morning\n",
       "8            8                     Interstellar  User3       3        Morning\n",
       "9            9                     Interstellar  User4       0      Afternoon\n",
       "10          10                        Inception  User0       0        Morning\n",
       "11          11                        Inception  User1       3        Morning\n",
       "12          12                        Inception  User2       4        Morning\n",
       "13          13                        Inception  User3       4        Morning\n",
       "14          14                        Inception  User4       0      Afternoon\n",
       "15          15          Silver Linings Playbook  User0       5        Evening\n",
       "16          16          Silver Linings Playbook  User1       0          Night\n",
       "17          17          Silver Linings Playbook  User2       0          Night\n",
       "18          18          Silver Linings Playbook  User3       0          Night\n",
       "19          19          Silver Linings Playbook  User4       4        Evening\n",
       "20          20  The Perks of Being a Wallflower  User0       3          Night\n",
       "21          21  The Perks of Being a Wallflower  User1       0        Evening\n",
       "22          22  The Perks of Being a Wallflower  User2       0          Night\n",
       "23          23  The Perks of Being a Wallflower  User3       0          Night\n",
       "24          24  The Perks of Being a Wallflower  User4       5          Night"
      ]
     },
     "execution_count": 43,
     "metadata": {},
     "output_type": "execute_result"
    }
   ],
   "source": [
    "flattened_dataset"
   ]
  },
  {
   "cell_type": "code",
   "execution_count": 44,
   "metadata": {},
   "outputs": [],
   "source": [
    "flattened_dataset['Movie'] = flattened_dataset['Movie'].apply(lambda x: movie2id[x])"
   ]
  },
  {
   "cell_type": "code",
   "execution_count": 45,
   "metadata": {},
   "outputs": [],
   "source": [
    "flattened_dataset['User'] = flattened_dataset['User'].apply(lambda x: index2id[x])"
   ]
  },
  {
   "cell_type": "code",
   "execution_count": 46,
   "metadata": {},
   "outputs": [],
   "source": [
    "flattened_dataset['Preferred_Time'] = flattened_dataset['Preferred_Time'].apply(lambda x: time2id[x])"
   ]
  },
  {
   "cell_type": "code",
   "execution_count": 47,
   "metadata": {},
   "outputs": [],
   "source": [
    "flattened_dataset = flattened_dataset[['Movie','User','Preferred_Time','Rating']]"
   ]
  },
  {
   "cell_type": "code",
   "execution_count": 48,
   "metadata": {},
   "outputs": [],
   "source": [
    "main_tensor = np.zeros((5,5,4))\n",
    "for row in flattened_dataset.values:\n",
    "    main_tensor[row[0],row[1],row[2]] = row[3]"
   ]
  },
  {
   "cell_type": "code",
   "execution_count": 92,
   "metadata": {},
   "outputs": [],
   "source": [
    "from sktensor import dtensor, cp_als"
   ]
  },
  {
   "cell_type": "code",
   "execution_count": 93,
   "metadata": {},
   "outputs": [],
   "source": [
    "T = dtensor(main_tensor)"
   ]
  },
  {
   "cell_type": "code",
   "execution_count": 94,
   "metadata": {},
   "outputs": [],
   "source": [
    "P, fit, itr, exectimes = cp_als(T, 2, init='random', max_iter= 200)"
   ]
  },
  {
   "cell_type": "code",
   "execution_count": 95,
   "metadata": {},
   "outputs": [],
   "source": [
    "M = np.array(P.U[0])"
   ]
  },
  {
   "cell_type": "code",
   "execution_count": 96,
   "metadata": {},
   "outputs": [],
   "source": [
    "U = np.array(P.U[1])"
   ]
  },
  {
   "cell_type": "code",
   "execution_count": 97,
   "metadata": {},
   "outputs": [],
   "source": [
    "T = np.array(P.U[2])"
   ]
  },
  {
   "cell_type": "code",
   "execution_count": 98,
   "metadata": {},
   "outputs": [
    {
     "name": "stdout",
     "output_type": "stream",
     "text": [
      "Populating the interactive namespace from numpy and matplotlib\n"
     ]
    }
   ],
   "source": [
    "import matplotlib\n",
    "%pylab inline\n",
    "pylab.rcParams['figure.figsize'] = (12, 10)\n",
    "#pylab.rcParams['figure.figsize'] = (10, 6)\n",
    "pylab.rcParams['figure.dpi'] = 150\n",
    "#rcParams['axes.color_cycle'] = dark2_colors\n",
    "pylab.rcParams['lines.linewidth'] = 2\n",
    "pylab.rcParams['axes.facecolor'] = 'white'\n",
    "pylab.rcParams['font.size'] = 16\n",
    "pylab.rcParams['patch.edgecolor'] = 'white'\n",
    "#rcParams['patch.facecolor'] = dark2_colors[0]\n",
    "rcParams['font.family'] = 'StixGeneral'\n",
    "plt.style.use('fivethirtyeight')\n",
    "import matplotlib.pyplot as pl"
   ]
  },
  {
   "cell_type": "code",
   "execution_count": 99,
   "metadata": {},
   "outputs": [
    {
     "data": {
      "image/png": "[encoded data removed]",
      "text/plain": [
       "<matplotlib.figure.Figure at 0x7f170f19e450>"
      ]
     },
     "metadata": {},
     "output_type": "display_data"
    }
   ],
   "source": [
    "fig, ax = plt.subplots()\n",
    "ax.scatter(M[:,0],M[:,1],marker=\"h\")\n",
    "\n",
    "for i, txt in enumerate(movie_names):\n",
    "    ax.annotate(txt, (M[i,0],M[i,1]))\n",
    "    \n",
    "ax.scatter(U[:,0],U[:,1],marker=\"x\")\n",
    "\n",
    "for i, txt in enumerate(index_names):\n",
    "    ax.annotate(txt, (U[i,0],U[i,1]))\n",
    "    \n",
    "ax.scatter(T[:,0],T[:,1],marker=\".\")\n",
    "\n",
    "for i, txt in enumerate(times):\n",
    "    ax.annotate(txt, (T[i,0],T[i,1]))"
   ]
  },
  {
   "cell_type": "code",
   "execution_count": 105,
   "metadata": {},
   "outputs": [],
   "source": [
    "def user_to_pref_time(user_id):\n",
    "    return [id2time[x] for x in np.argsort(U[user_id].dot(T.T))[::-1][0:2]]"
   ]
  },
  {
   "cell_type": "code",
   "execution_count": 106,
   "metadata": {},
   "outputs": [
    {
     "name": "stdout",
     "output_type": "stream",
     "text": [
      "Preferred time for User0 is ['Evening', 'Morning']\n",
      "Preferred time for User1 is ['Morning', 'Afternoon']\n",
      "Preferred time for User2 is ['Morning', 'Afternoon']\n",
      "Preferred time for User3 is ['Morning', 'Afternoon']\n",
      "Preferred time for User4 is ['Evening', 'Night']\n"
     ]
    }
   ],
   "source": [
    "for x in range(5):\n",
    "    print 'Preferred time for User%d is %s' %(x, user_to_pref_time(x))"
   ]
  },
  {
   "cell_type": "code",
   "execution_count": 107,
   "metadata": {},
   "outputs": [],
   "source": [
    "def user_to_pref_movie(user_id):\n",
    "    return [id2movie[x] for x in np.argsort(U[user_id].dot(M.T))[::-1][0:2]]"
   ]
  },
  {
   "cell_type": "code",
   "execution_count": 108,
   "metadata": {},
   "outputs": [
    {
     "name": "stdout",
     "output_type": "stream",
     "text": [
      "Preferred movie for User0 is ['Silver Linings Playbook', 'Inception']\n",
      "Preferred movie for User1 is ['Inception', 'Star Trek']\n",
      "Preferred movie for User2 is ['Inception', 'Star Trek']\n",
      "Preferred movie for User3 is ['Inception', 'Star Trek']\n",
      "Preferred movie for User4 is ['Silver Linings Playbook', 'The Perks of Being a Wallflower']\n"
     ]
    }
   ],
   "source": [
    "for x in range(5):\n",
    "    print 'Preferred movie for User%d is %s' %(x, user_to_pref_movie(x))"
   ]
  },
  {
   "cell_type": "code",
   "execution_count": null,
   "metadata": {},
   "outputs": [],
   "source": []
  }
 ],
 "metadata": {
  "kernelspec": {
   "display_name": "Python 2",
   "language": "python",
   "name": "python2"
  },
  "language_info": {
   "codemirror_mode": {
    "name": "ipython",
    "version": 2
   },
   "file_extension": ".py",
   "mimetype": "text/x-python",
   "name": "python",
   "nbconvert_exporter": "python",
   "pygments_lexer": "ipython2",
   "version": "2.7.14"
  }
 },
 "nbformat": 4,
 "nbformat_minor": 2
}
