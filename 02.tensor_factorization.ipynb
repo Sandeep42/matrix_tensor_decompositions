{
 "cells": [
  {
   "cell_type": "code",
   "execution_count": 16,
   "metadata": {},
   "outputs": [],
   "source": [
    "import pandas as pd\n",
    "import numpy as np"
   ]
  },
  {
   "cell_type": "code",
   "execution_count": 2,
   "metadata": {},
   "outputs": [],
   "source": [
    "index_names = ['User'+str(x) for x in range(5)]\n",
    "movie_names = ['Star Trek','Interstellar','Inception','Silver Linings Playbook','The Perks of Being a Wallflower']\n",
    "times = ['Morning','Afternoon','Evening','Night']"
   ]
  },
  {
   "cell_type": "code",
   "execution_count": 12,
   "metadata": {},
   "outputs": [],
   "source": [
    "time2id = {v:k for k,v in enumerate(times)}\n",
    "id2time = {k:v for k,v in enumerate(times)}"
   ]
  },
  {
   "cell_type": "code",
   "execution_count": 70,
   "metadata": {},
   "outputs": [],
   "source": [
    "index2id = {v:k for k,v in enumerate(index_names)}\n",
    "id2index = {k:v for k,v in enumerate(index_names)}"
   ]
  },
  {
   "cell_type": "code",
   "execution_count": 71,
   "metadata": {},
   "outputs": [],
   "source": [
    "movie2id = {v:k for k,v in enumerate(movie_names)}\n",
    "id2movie = {k:v for k,v in enumerate(movie_names)}"
   ]
  },
  {
   "cell_type": "code",
   "execution_count": 72,
   "metadata": {},
   "outputs": [
    {
     "data": {
      "text/plain": [
       "{0: 'Morning', 1: 'Afternoon', 2: 'Evening', 3: 'Night'}"
      ]
     },
     "execution_count": 72,
     "metadata": {},
     "output_type": "execute_result"
    }
   ],
   "source": [
    "id2time"
   ]
  },
  {
   "cell_type": "code",
   "execution_count": 73,
   "metadata": {},
   "outputs": [
    {
     "data": {
      "text/plain": [
       "{'Inception': 2,\n",
       " 'Interstellar': 1,\n",
       " 'Silver Linings Playbook': 3,\n",
       " 'Star Trek': 0,\n",
       " 'The Perks of Being a Wallflower': 4}"
      ]
     },
     "execution_count": 73,
     "metadata": {},
     "output_type": "execute_result"
    }
   ],
   "source": [
    "movie2id"
   ]
  },
  {
   "cell_type": "code",
   "execution_count": 75,
   "metadata": {},
   "outputs": [
    {
     "data": {
      "text/plain": [
       "{'User0': 0, 'User1': 1, 'User2': 2, 'User3': 3, 'User4': 4}"
      ]
     },
     "execution_count": 75,
     "metadata": {},
     "output_type": "execute_result"
    }
   ],
   "source": [
    "index2id"
   ]
  },
  {
   "cell_type": "code",
   "execution_count": 3,
   "metadata": {},
   "outputs": [],
   "source": [
    "dataset = pd.DataFrame(index=index_names,columns=movie_names)\n",
    "dataset = dataset.fillna(0)"
   ]
  },
  {
   "cell_type": "code",
   "execution_count": 4,
   "metadata": {},
   "outputs": [],
   "source": [
    "dataset.loc['User1']['Star Trek'] = 5\n",
    "dataset.loc['User1']['Inception'] = 3\n",
    "dataset.loc['User2']['Interstellar'] = 3\n",
    "dataset.loc['User2']['Inception'] = 4\n",
    "dataset.loc['User3']['Interstellar'] = 3\n",
    "dataset.loc['User3']['Inception'] = 4\n",
    "dataset.loc['User3']['Star Trek'] = 5\n",
    "dataset.loc['User0']['Silver Linings Playbook'] = 5\n",
    "dataset.loc['User0']['The Perks of Being a Wallflower'] = 3\n",
    "dataset.loc['User0']['Star Trek'] = 3\n",
    "dataset.loc['User4']['Silver Linings Playbook'] = 4\n",
    "dataset.loc['User4']['The Perks of Being a Wallflower'] = 5"
   ]
  },
  {
   "cell_type": "code",
   "execution_count": 5,
   "metadata": {},
   "outputs": [
    {
     "data": {
      "text/html": [
       "<div>\n",
       "<style scoped>\n",
       "    .dataframe tbody tr th:only-of-type {\n",
       "        vertical-align: middle;\n",
       "    }\n",
       "\n",
       "    .dataframe tbody tr th {\n",
       "        vertical-align: top;\n",
       "    }\n",
       "\n",
       "    .dataframe thead th {\n",
       "        text-align: right;\n",
       "    }\n",
       "</style>\n",
       "<table border=\"1\" class=\"dataframe\">\n",
       "  <thead>\n",
       "    <tr style=\"text-align: right;\">\n",
       "      <th></th>\n",
       "      <th>Star Trek</th>\n",
       "      <th>Interstellar</th>\n",
       "      <th>Inception</th>\n",
       "      <th>Silver Linings Playbook</th>\n",
       "      <th>The Perks of Being a Wallflower</th>\n",
       "    </tr>\n",
       "  </thead>\n",
       "  <tbody>\n",
       "    <tr>\n",
       "      <th>User0</th>\n",
       "      <td>3</td>\n",
       "      <td>0</td>\n",
       "      <td>0</td>\n",
       "      <td>5</td>\n",
       "      <td>3</td>\n",
       "    </tr>\n",
       "    <tr>\n",
       "      <th>User1</th>\n",
       "      <td>5</td>\n",
       "      <td>0</td>\n",
       "      <td>3</td>\n",
       "      <td>0</td>\n",
       "      <td>0</td>\n",
       "    </tr>\n",
       "    <tr>\n",
       "      <th>User2</th>\n",
       "      <td>0</td>\n",
       "      <td>3</td>\n",
       "      <td>4</td>\n",
       "      <td>0</td>\n",
       "      <td>0</td>\n",
       "    </tr>\n",
       "    <tr>\n",
       "      <th>User3</th>\n",
       "      <td>5</td>\n",
       "      <td>3</td>\n",
       "      <td>4</td>\n",
       "      <td>0</td>\n",
       "      <td>0</td>\n",
       "    </tr>\n",
       "    <tr>\n",
       "      <th>User4</th>\n",
       "      <td>0</td>\n",
       "      <td>0</td>\n",
       "      <td>0</td>\n",
       "      <td>4</td>\n",
       "      <td>5</td>\n",
       "    </tr>\n",
       "  </tbody>\n",
       "</table>\n",
       "</div>"
      ],
      "text/plain": [
       "       Star Trek  Interstellar  Inception  Silver Linings Playbook  \\\n",
       "User0          3             0          0                        5   \n",
       "User1          5             0          3                        0   \n",
       "User2          0             3          4                        0   \n",
       "User3          5             3          4                        0   \n",
       "User4          0             0          0                        4   \n",
       "\n",
       "       The Perks of Being a Wallflower  \n",
       "User0                                3  \n",
       "User1                                0  \n",
       "User2                                0  \n",
       "User3                                0  \n",
       "User4                                5  "
      ]
     },
     "execution_count": 5,
     "metadata": {},
     "output_type": "execute_result"
    }
   ],
   "source": [
    "dataset"
   ]
  },
  {
   "cell_type": "code",
   "execution_count": 76,
   "metadata": {},
   "outputs": [],
   "source": [
    "user_to_pref_time = {\"User1\":time2id[\"Evening\"],\n",
    "                     \"User2\":time2id[\"Night\"],\n",
    "                     \"User3\":time2id[\"Evening\"],\n",
    "                     \"User4\":time2id[\"Afternoon\"],\n",
    "                     \"User0\":time2id[\"Morning\"]}"
   ]
  },
  {
   "cell_type": "code",
   "execution_count": 77,
   "metadata": {},
   "outputs": [
    {
     "data": {
      "text/plain": [
       "{'User0': 0, 'User1': 2, 'User2': 3, 'User3': 2, 'User4': 1}"
      ]
     },
     "execution_count": 77,
     "metadata": {},
     "output_type": "execute_result"
    }
   ],
   "source": [
    "user_to_pref_time"
   ]
  },
  {
   "cell_type": "code",
   "execution_count": null,
   "metadata": {},
   "outputs": [],
   "source": [
    "main_tensor = np.zeros((5,5,4))\n",
    "for i in xrange(5):\n",
    "    for j in xrange(5):\n",
    "        for k in xrange(4):\n",
    "            user_id = \n",
    "            main_tensor[i,j,k] = "
   ]
  },
  {
   "cell_type": "code",
   "execution_count": null,
   "metadata": {},
   "outputs": [],
   "source": []
  },
  {
   "cell_type": "code",
   "execution_count": null,
   "metadata": {},
   "outputs": [],
   "source": []
  }
 ],
 "metadata": {
  "kernelspec": {
   "display_name": "Python 2",
   "language": "python",
   "name": "python2"
  },
  "language_info": {
   "codemirror_mode": {
    "name": "ipython",
    "version": 2
   },
   "file_extension": ".py",
   "mimetype": "text/x-python",
   "name": "python",
   "nbconvert_exporter": "python",
   "pygments_lexer": "ipython2",
   "version": "2.7.14"
  }
 },
 "nbformat": 4,
 "nbformat_minor": 2
}
